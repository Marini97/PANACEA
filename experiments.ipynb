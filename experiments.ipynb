{
 "cells": [
  {
   "cell_type": "code",
   "execution_count": 1,
   "metadata": {},
   "outputs": [],
   "source": [
    "from tree import Tree\n",
    "import tree_to_prism as tp\n",
    "import glob\n",
    "import pandas as pd"
   ]
  },
  {
   "cell_type": "code",
   "execution_count": 2,
   "metadata": {},
   "outputs": [],
   "source": [
    "path = 'experiments/experiment3'\n",
    "\n",
    "results = pd.DataFrame(columns=['tree','using_time','number_tree_nodes','number_reachable_states','number_transitions','time_model_construction','time_property_checking','reward'])"
   ]
  },
  {
   "cell_type": "code",
   "execution_count": 3,
   "metadata": {},
   "outputs": [
    {
     "data": {
      "text/plain": [
       "['A_1', 'A_4', 'A_6', 'root']"
      ]
     },
     "execution_count": 3,
     "metadata": {},
     "output_type": "execute_result"
    }
   ],
   "source": [
    "# get all the files in the directory trees\n",
    "files = glob.glob(path+'/trees/*.xml')\n",
    "files = [f.split('\\\\')[-1].split('.')[0] for f in files]\n",
    "files"
   ]
  },
  {
   "cell_type": "code",
   "execution_count": 4,
   "metadata": {},
   "outputs": [],
   "source": [
    "for file in files:    \n",
    "    tree = Tree()\n",
    "    tree = tp.parse_file(f\"{path}/trees/{file}.xml\")\n",
    "    string = tp.get_prism_model(tree) # get the prism model as a string\n",
    "    string_time = tp.get_prism_model_time(tree)\n",
    "    tp.save_prism_model(string, f\"{path}/prism/{file}.prism\")  # save the model to a prism file\n",
    "    tp.save_prism_model(string_time, f\"{path}/prism/{file}_time.prism\")"
   ]
  }
 ],
 "metadata": {
  "kernelspec": {
   "display_name": "tf-gpu",
   "language": "python",
   "name": "python3"
  },
  "language_info": {
   "codemirror_mode": {
    "name": "ipython",
    "version": 3
   },
   "file_extension": ".py",
   "mimetype": "text/x-python",
   "name": "python",
   "nbconvert_exporter": "python",
   "pygments_lexer": "ipython3",
   "version": "3.10.13"
  }
 },
 "nbformat": 4,
 "nbformat_minor": 2
}
